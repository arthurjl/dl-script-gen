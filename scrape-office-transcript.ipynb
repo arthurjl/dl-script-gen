{
 "cells": [
  {
   "cell_type": "markdown",
   "metadata": {},
   "source": [
    "# Office json to text\n",
    "Dataset here: https://github.com/brianbuie/the-office\n",
    "Converts json into a text file"
   ]
  },
  {
   "cell_type": "code",
   "execution_count": 19,
   "metadata": {},
   "outputs": [],
   "source": [
    "import json\n",
    "import os"
   ]
  },
  {
   "cell_type": "code",
   "execution_count": 29,
   "metadata": {},
   "outputs": [
    {
     "name": "stdout",
     "output_type": "stream",
     "text": [
      "Total of 186 json files\n"
     ]
    }
   ],
   "source": [
    "DATA_LOC = 'data'\n",
    "json_files = [os.path.join(DATA_LOC, f) for f in os.listdir('data') if f.endswith(\".json\")]\n",
    "print(f\"Total of {len(json_files)} json files\")"
   ]
  },
  {
   "cell_type": "code",
   "execution_count": 50,
   "metadata": {},
   "outputs": [],
   "source": [
    "result = \"\"\n",
    "for file_loc in json_files:\n",
    "    with open(file_loc) as json_file:\n",
    "        data = json.load(json_file)\n",
    "    scenes = data['scenes']\n",
    "    for scene in scenes:\n",
    "        for line in scene:\n",
    "            result += str(line['character']) + \": \" + str(line['line']) + \"\\n\"\n",
    "        # Optional append to include endscene or not\n",
    "#         result += \"<end scene>\\n\""
   ]
  },
  {
   "cell_type": "code",
   "execution_count": 51,
   "metadata": {},
   "outputs": [],
   "source": [
    "with open(\"data/office_transcript.txt\", 'w', encoding='utf') as file:\n",
    "    file.write(result)"
   ]
  },
  {
   "cell_type": "code",
   "execution_count": null,
   "metadata": {},
   "outputs": [],
   "source": []
  }
 ],
 "metadata": {
  "kernelspec": {
   "display_name": "Python 3",
   "language": "python",
   "name": "python3"
  },
  "language_info": {
   "codemirror_mode": {
    "name": "ipython",
    "version": 3
   },
   "file_extension": ".py",
   "mimetype": "text/x-python",
   "name": "python",
   "nbconvert_exporter": "python",
   "pygments_lexer": "ipython3",
   "version": "3.7.0"
  }
 },
 "nbformat": 4,
 "nbformat_minor": 2
}
